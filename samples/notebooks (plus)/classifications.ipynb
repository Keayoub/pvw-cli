{
 "cells": [
  {
   "cell_type": "markdown",
   "metadata": {},
   "source": [
    "# Classifications\n",
    "Example on how to work with classifications in Microsoft Purview."
   ]
  },
  {
   "cell_type": "code",
   "execution_count": null,
   "metadata": {},
   "outputs": [],
   "source": [
    "%env PURVIEW_ACCOUNT_NAME=YOUR_PURVIEW_ACCOUNT_NAME"
   ]
  },
  {
   "cell_type": "code",
   "execution_count": null,
   "metadata": {},
   "outputs": [],
   "source": [
    "# Initialise Helper Method\n",
    "import json\n",
    "def getJSON(raw_output):\n",
    "    output = ''.join(raw_output)\n",
    "    json_obj = json.loads(output)\n",
    "    return json_obj"
   ]
  },
  {
   "cell_type": "code",
   "execution_count": null,
   "metadata": {},
   "outputs": [],
   "source": [
    "# Get Classifications\n",
    "data = !pvw types readTypeDefs --type \"CLASSIFICATION\"\n",
    "data = getJSON(data)"
   ]
  },
  {
   "cell_type": "code",
   "execution_count": null,
   "metadata": {},
   "outputs": [],
   "source": [
    "# Number of Classifications by Creator (createdBy)\n",
    "classificationsByCreator = {}\n",
    "for classification in data['classificationDefs']:\n",
    "    createdBy = classification['createdBy']\n",
    "    if createdBy in classificationsByCreator:\n",
    "        classificationsByCreator[createdBy] += 1\n",
    "    else:\n",
    "        classificationsByCreator[createdBy] = 1\n",
    "print(classificationsByCreator)"
   ]
  }
 ],
 "metadata": {
  "interpreter": {
   "hash": "574e4e3fa2caffcca541e866ecc3c3fa6a3324d93e0b2e094715f4fe33f8825b"
  },
  "kernelspec": {
   "display_name": "Python 3.9.2 64-bit",
   "name": "python3"
  },
  "language_info": {
   "codemirror_mode": {
    "name": "ipython",
    "version": 3
   },
   "file_extension": ".py",
   "mimetype": "text/x-python",
   "name": "python",
   "nbconvert_exporter": "python",
   "pygments_lexer": "ipython3",
   "version": "3.9.2"
  },
  "orig_nbformat": 4
 },
 "nbformat": 4,
 "nbformat_minor": 2
}
