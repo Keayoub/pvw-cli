{
 "cells": [
  {
   "cell_type": "markdown",
   "metadata": {},
   "source": [
    "# Bulk Update Entity Descriptions in Microsoft Purview\n",
    "\n",
    "This notebook shows how to update entity descriptions in bulk from a CSV file using the PVW CLI. It demonstrates reading entity metadata, mapping to GUIDs, and updating descriptions programmatically.\n"
   ]
  },
  {
   "cell_type": "markdown",
   "metadata": {},
   "source": [
    "# Update Entity Description from CSV"
   ]
  },
  {
   "cell_type": "code",
   "execution_count": null,
   "metadata": {},
   "outputs": [],
   "source": [
    "# Set the environment variable\n",
    "%env PURVIEW_ACCOUNT_NAME=YOUR_PURVIEW_ACCOUNT_NAME"
   ]
  },
  {
   "cell_type": "code",
   "execution_count": null,
   "metadata": {},
   "outputs": [],
   "source": [
    "# Helper Methods\n",
    "import json\n",
    "def getJSON(raw_output):\n",
    "    output = ''.join(raw_output)\n",
    "    json_obj = json.loads(output)\n",
    "    return json_obj"
   ]
  },
  {
   "cell_type": "code",
   "execution_count": null,
   "metadata": {},
   "outputs": [],
   "source": [
    "# Get GUID via Fully Qualified Name\n",
    "def getGuid(type_name, fully_qualified_name):\n",
    " data = !pvw entity readUniqueAttribute --typeName {type_name} --qualifiedName {fully_qualified_name}\n",
    " data = getJSON(data)\n",
    " guid = data['entity']['guid']\n",
    " return guid"
   ]
  },
  {
   "cell_type": "code",
   "execution_count": null,
   "metadata": {},
   "outputs": [],
   "source": [
    "# Update Entity Description from CSV\n",
    "from csv import reader\n",
    "with open (\"../csv/entities.csv\", \"r\") as csv_file:\n",
    "    csv_reader = reader(csv_file)\n",
    "    next(csv_reader)\n",
    "    for row in csv_reader:\n",
    "        type_name, fully_qualified_name, description = row[0], row[1], row[2]\n",
    "        guid = getGuid(type_name, fully_qualified_name)\n",
    "        !pvw entity put --guid {guid} --attrName \"description\" --attrValue \"{description}\" > \"{guid}.json\"\n",
    "        print(guid, description)"
   ]
  }
 ],
 "metadata": {
  "interpreter": {
   "hash": "12e36838d520b1a5d9d0c411170e079c62a783e05fdada350eba99892041e52f"
  },
  "kernelspec": {
   "display_name": "Python 3.9.2 64-bit ('env': venv)",
   "language": "python",
   "name": "python3"
  },
  "language_info": {
   "codemirror_mode": {
    "name": "ipython",
    "version": 3
   },
   "file_extension": ".py",
   "mimetype": "text/x-python",
   "name": "python",
   "nbconvert_exporter": "python",
   "pygments_lexer": "ipython3",
   "version": "3.9.2"
  },
  "orig_nbformat": 4
 },
 "nbformat": 4,
 "nbformat_minor": 2
}
