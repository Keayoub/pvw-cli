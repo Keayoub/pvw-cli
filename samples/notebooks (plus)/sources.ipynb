{
 "cells": [
  {
   "cell_type": "markdown",
   "metadata": {},
   "source": [
    "# Create Data Sources and Collections in Microsoft Purview\n",
    "\n",
    "This notebook demonstrates how to create data sources and collections in Microsoft Purview using the PVW CLI, including both single and batch operations.\n",
    "\n",
    "**For detailed CLI and API documentation, see the main [README](../..//README.md).**\n"
   ]
  },
  {
   "cell_type": "markdown",
   "metadata": {},
   "source": [
    "# Sources\n",
    "Example notebook on how to create sources (including collections)."
   ]
  },
  {
   "cell_type": "code",
   "execution_count": null,
   "metadata": {},
   "outputs": [],
   "source": [
    "# Create a Source\n",
    "# Note: See samples/json/sources for examples on how to construct the JSON payloads for different kinds of sources (e.g.AdlsGen2, AmazonS3, Hive, etc).\n",
    "!pvw scan putDataSource --dataSourceName \"AzureSynapseWorkspace\" --payloadFile \"..\\json\\source\\AzureSynapseWorkspace.json\" --purviewName \"purview-sandbox\""
   ]
  },
  {
   "cell_type": "code",
   "execution_count": null,
   "metadata": {},
   "outputs": [],
   "source": [
    "# Create Sources\n",
    "# Note: Microsoft Purview does not currently surface a bulk endpoint to create multiple sources in a single operation.\n",
    "# The sample code below demonstrates how this can be achieved by reading a JSON document which contains an array of sources.\n",
    "import os, json\n",
    "\n",
    "# Open JSON document that contains an array of sources\n",
    "with open('/Users/taygan/Desktop/purviewcli/sources/data_lz_sources.json') as f:\n",
    "    sources = json.load(f)\n",
    "\n",
    "# Persist each source in a temporary JSON document and execute purviewcli command (pvw scan putDataSource)\n",
    "cwd = os.getcwd()\n",
    "filepath = os.path.join(cwd,'temp_source.json')\n",
    "for source in sources:\n",
    "    with open(filepath, 'w') as out_file:\n",
    "        json.dump(source, out_file, indent=4, sort_keys=True)\n",
    "    !pvw scan putDataSource --dataSourceName {source['name']} --payloadFile {filepath} --purviewName \"pvtest\"\n",
    "\n",
    "# Clean-up temporary JSON document\n",
    "os.remove(filepath)\n"
   ]
  },
  {
   "cell_type": "code",
   "execution_count": null,
   "metadata": {},
   "outputs": [],
   "source": []
  }
 ],
 "metadata": {
  "interpreter": {
   "hash": "06a38955b8ad85bbf3b14ddaf9620713de55cfb2da467adc159ddbd05253a687"
  },
  "kernelspec": {
   "display_name": "Python 3.9.6 64-bit ('env': venv)",
   "name": "python3"
  },
  "language_info": {
   "codemirror_mode": {
    "name": "ipython",
    "version": 3
   },
   "file_extension": ".py",
   "mimetype": "text/x-python",
   "name": "python",
   "nbconvert_exporter": "python",
   "pygments_lexer": "ipython3",
   "version": "3.9.6"
  },
  "orig_nbformat": 4
 },
 "nbformat": 4,
 "nbformat_minor": 2
}
