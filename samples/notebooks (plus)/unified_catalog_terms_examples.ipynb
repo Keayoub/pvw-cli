{
 "cells": [
  {
   "cell_type": "markdown",
   "id": "237b3821",
   "metadata": {},
   "source": [
    "# Microsoft Purview Unified Catalog - Terms Management Examples\n",
    "\n",
    "This notebook demonstrates how to create and manage glossary terms in Microsoft Purview Unified Catalog (UC) with various features including:\n",
    "- **Acronyms**: Multiple acronyms per term\n",
    "- **Owners**: Multiple owner assignments\n",
    "- **Resources**: Links to additional reading materials\n",
    "- **Status Management**: Draft, Published, Archived states\n",
    "\n",
    "## Prerequisites\n",
    "- PVW CLI installed (`pip install pvw-cli`)\n",
    "- Azure authentication configured (`az login`)\n",
    "- Environment variables set: `PURVIEW_ACCOUNT_NAME`, `PURVIEW_ACCOUNT_ID`\n",
    "- At least one governance domain created"
   ]
  },
  {
   "cell_type": "markdown",
   "id": "a4cbcf75",
   "metadata": {},
   "source": [
    "## Setup and Configuration"
   ]
  },
  {
   "cell_type": "code",
   "execution_count": null,
   "id": "2d4ab979",
   "metadata": {},
   "outputs": [],
   "source": [
    "# Set your domain ID here (get it from: pvw uc domain list --json)\n",
    "%env PURVIEW_ACCOUNT_NAME=YOUR_PURVIEW_ACCOUNT_NAME\n",
    "DOMAIN_ID = \"d4cdd762-eeca-4401-81b1-e93d8aff3fe4\"  # Replace with your actual domain ID\n",
    "\n",
    "print(f\"✅ Configuration loaded. Using domain ID: {DOMAIN_ID}\")"
   ]
  },
  {
   "cell_type": "markdown",
   "id": "505774a4",
   "metadata": {},
   "source": [
    "## Example 1: Simple Term with One Acronym\n",
    "\n",
    "Create a basic term with a single acronym."
   ]
  },
  {
   "cell_type": "code",
   "execution_count": null,
   "id": "fac062ca",
   "metadata": {},
   "outputs": [],
   "source": [
    "# Create Customer Relationship Management (CRM) term\n",
    "print(\"Creating term: Customer Relationship Management (CRM)\")\n",
    "!pvw uc term create \\\n",
    "    --name \"Customer Relationship Management\" \\\n",
    "    --description \"Software for managing customer interactions and relationships\" \\\n",
    "    --domain-id {DOMAIN_ID} \\\n",
    "    --acronym \"CRM\""
   ]
  },
  {
   "cell_type": "markdown",
   "id": "c5161f9b",
   "metadata": {},
   "source": [
    "## Example 2: Term with Multiple Acronyms\n",
    "\n",
    "Create a term with multiple acronyms (useful for terms with various abbreviations)."
   ]
  },
  {
   "cell_type": "code",
   "execution_count": null,
   "id": "c4546b86",
   "metadata": {},
   "outputs": [],
   "source": [
    "# Create SQL term with multiple acronyms\n",
    "print(\"Creating term: Structured Query Language (SQL/SEQUEL)\")\n",
    "!pvw uc term create \\\n",
    "    --name \"Structured Query Language\" \\\n",
    "    --description \"Domain-specific language for managing and querying relational databases\" \\\n",
    "    --domain-id {DOMAIN_ID} \\\n",
    "    --acronym \"SQL\" \\\n",
    "    --acronym \"SEQUEL\" \\\n",
    "    --status Draft"
   ]
  },
  {
   "cell_type": "markdown",
   "id": "cc4ebe4f",
   "metadata": {},
   "source": [
    "## Example 3: Term with Acronyms and Owner\n",
    "\n",
    "Create a term with acronyms and assign an owner for governance."
   ]
  },
  {
   "cell_type": "code",
   "execution_count": null,
   "id": "ea4af88a",
   "metadata": {},
   "outputs": [],
   "source": [
    "# Create KPI term with owner\n",
    "print(\"Creating term: Key Performance Indicator (KPI) with owner\")\n",
    "print(\"⚠️ Note: Replace 'user@company.com' with a valid user ID from your organization\\n\")\n",
    "\n",
    "!pvw uc term create \\\n",
    "    --name \"Key Performance Indicator\" \\\n",
    "    --description \"Measurable value demonstrating how effectively objectives are being achieved\" \\\n",
    "    --domain-id {DOMAIN_ID} \\\n",
    "    --acronym \"KPI\" \\\n",
    "    --owner-id \"user@company.com\" \\\n",
    "    --status Published"
   ]
  },
  {
   "cell_type": "markdown",
   "id": "7ad7f0e8",
   "metadata": {},
   "source": [
    "## Example 4: Term with Acronyms and Resources (Additional Reading)\n",
    "\n",
    "Create a comprehensive term with acronyms and links to external documentation."
   ]
  },
  {
   "cell_type": "code",
   "execution_count": null,
   "id": "02108ed3",
   "metadata": {},
   "outputs": [],
   "source": [
    "# Create PII term with resources\n",
    "print(\"Creating term: Personally Identifiable Information (PII) with external resources\")\n",
    "\n",
    "!pvw uc term create \\\n",
    "    --name \"Personally Identifiable Information\" \\\n",
    "    --description \"Data that can be used to identify an individual person\" \\\n",
    "    --domain-id {DOMAIN_ID} \\\n",
    "    --acronym \"PII\" \\\n",
    "    --resource-name \"NIST Definition\" \\\n",
    "    --resource-url \"https://csrc.nist.gov/glossary/term/personally_identifiable_information\" \\\n",
    "    --resource-name \"Wikipedia\" \\\n",
    "    --resource-url \"https://en.wikipedia.org/wiki/Personal_data\" \\\n",
    "    --status Draft"
   ]
  },
  {
   "cell_type": "markdown",
   "id": "8005a47a",
   "metadata": {},
   "source": [
    "## Example 5: Full-Featured Term (Acronyms + Multiple Owners + Resources)\n",
    "\n",
    "Create a complete term with all available features."
   ]
  },
  {
   "cell_type": "code",
   "execution_count": null,
   "id": "8c478514",
   "metadata": {},
   "outputs": [],
   "source": [
    "# Create GDPR term with everything\n",
    "print(\"Creating term: General Data Protection Regulation (GDPR) - Full Featured\")\n",
    "print(\"⚠️ Note: Replace email addresses with valid user IDs from your organization\\n\")\n",
    "\n",
    "!pvw uc term create \\\n",
    "    --name \"General Data Protection Regulation\" \\\n",
    "    --description \"EU regulation on data protection and privacy for individuals within the European Union and EEA\" \\\n",
    "    --domain-id {DOMAIN_ID} \\\n",
    "    --acronym \"GDPR\" \\\n",
    "    --acronym \"Reg (EU) 2016/679\" \\\n",
    "    --owner-id \"compliance@company.com\" \\\n",
    "    --owner-id \"legal@company.com\" \\\n",
    "    --resource-name \"Official EUR-Lex\" \\\n",
    "    --resource-url \"https://eur-lex.europa.eu/eli/reg/2016/679/oj\" \\\n",
    "    --resource-name \"GDPR.eu Guide\" \\\n",
    "    --resource-url \"https://gdpr.eu/\" \\\n",
    "    --status Published"
   ]
  },
  {
   "cell_type": "markdown",
   "id": "d482e0ea",
   "metadata": {},
   "source": [
    "## Example 6: Batch Create Multiple Terms\n",
    "\n",
    "Create multiple related terms in sequence."
   ]
  },
  {
   "cell_type": "code",
   "execution_count": null,
   "id": "52ebee16",
   "metadata": {},
   "outputs": [],
   "source": [
    "# Define a list of common business terms to create\n",
    "terms_to_create = [\n",
    "    {\"name\": \"Return on Investment\", \"acronym\": \"ROI\"},\n",
    "    {\"name\": \"Service Level Agreement\", \"acronym\": \"SLA\"},\n",
    "    {\"name\": \"Business Intelligence\", \"acronym\": \"BI\"},\n",
    "    {\"name\": \"Extract Transform Load\", \"acronym\": \"ETL\"}\n",
    "]\n",
    "\n",
    "print(\"Creating multiple terms in batch...\\n\")\n",
    "\n",
    "for term in terms_to_create:\n",
    "    print(f\"Creating: {term['name']} ({term['acronym']})\")\n",
    "    !pvw uc term create \\\n",
    "        --name \"{term['name']}\" \\\n",
    "        --description \"Business term: {term['name']}\" \\\n",
    "        --domain-id {DOMAIN_ID} \\\n",
    "        --acronym \"{term['acronym']}\" \\\n",
    "        --status Draft\n",
    "    print()\n",
    "\n",
    "print(\"✅ Batch creation complete!\")"
   ]
  },
  {
   "cell_type": "markdown",
   "id": "5b690a7d",
   "metadata": {},
   "source": [
    "## List All Terms in Domain\n",
    "\n",
    "View all terms created in the domain."
   ]
  },
  {
   "cell_type": "code",
   "execution_count": null,
   "id": "bd3f4171",
   "metadata": {},
   "outputs": [],
   "source": [
    "# List all terms in the domain\n",
    "print(f\"Listing all terms in domain: {DOMAIN_ID}\\n\")\n",
    "!pvw uc term list --domain-id {DOMAIN_ID}"
   ]
  },
  {
   "cell_type": "markdown",
   "id": "c3c3f49d",
   "metadata": {},
   "source": [
    "## Show Detailed Term Information\n",
    "\n",
    "Get full details of a specific term including acronyms, resources, and owners."
   ]
  },
  {
   "cell_type": "code",
   "execution_count": null,
   "id": "bab68f12",
   "metadata": {},
   "outputs": [],
   "source": [
    "# Replace with an actual term ID from your environment\n",
    "TERM_ID = \"<your-term-id-here>\"  # Get this from the list above\n",
    "\n",
    "print(f\"Getting details for term: {TERM_ID}\\n\")\n",
    "!pvw uc term show --term-id {TERM_ID} --json"
   ]
  },
  {
   "cell_type": "markdown",
   "id": "f0cca180",
   "metadata": {},
   "source": [
    "## Expected Payload Structure (Reference)\n",
    "\n",
    "When you create a term with the CLI, it sends a JSON payload to the UC API. Here's the structure:\n",
    "\n",
    "```json\n",
    "{\n",
    "    \"name\": \"General Data Protection Regulation\",\n",
    "    \"description\": \"EU regulation on data protection and privacy\",\n",
    "    \"domain\": \"domain-id-here\",\n",
    "    \"status\": \"Draft\",\n",
    "    \"acronyms\": [\"GDPR\", \"Reg (EU) 2016/679\"],\n",
    "    \"contacts\": {\n",
    "        \"owner\": [\n",
    "            {\"id\": \"user1@company.com\"},\n",
    "            {\"id\": \"user2@company.com\"}\n",
    "        ]\n",
    "    },\n",
    "    \"resources\": [\n",
    "        {\n",
    "            \"name\": \"Official EUR-Lex\",\n",
    "            \"url\": \"https://eur-lex.europa.eu/eli/reg/2016/679/oj\"\n",
    "        },\n",
    "        {\n",
    "            \"name\": \"GDPR.eu Guide\",\n",
    "            \"url\": \"https://gdpr.eu/\"\n",
    "        }\n",
    "    ]\n",
    "}\n",
    "```"
   ]
  },
  {
   "cell_type": "markdown",
   "id": "fbe14f45",
   "metadata": {},
   "source": [
    "## Update Existing Terms\n",
    "\n",
    "Modify existing terms to add acronyms, change status, add owners, or update other properties.\n",
    "\n",
    "### Update Options\n",
    "\n",
    "**Replace Options** (overwrites existing values):\n",
    "- `--name`, `--description`, `--status`, `--domain-id` - Update these properties\n",
    "- `--acronym` - Replace all acronyms\n",
    "- `--owner-id` - Replace all owners\n",
    "- `--resource-name` + `--resource-url` - Replace all resources\n",
    "\n",
    "**Add Options** (preserves existing and adds new):\n",
    "- `--add-acronym` - Add to existing acronyms without removing current ones\n",
    "- `--add-owner-id` - Add to existing owners without removing current ones"
   ]
  },
  {
   "cell_type": "code",
   "execution_count": null,
   "id": "c8854500",
   "metadata": {},
   "outputs": [],
   "source": [
    "# Setup: Replace with an actual term ID from your environment\n",
    "TERM_ID_TO_UPDATE = \"<your-term-id-here>\"  # Get this from the list above\n",
    "\n",
    "print(f\"📝 Update Examples for Term: {TERM_ID_TO_UPDATE}\")\n",
    "print(\"⚠️ Note: Uncomment the commands below to execute updates\\n\")"
   ]
  },
  {
   "cell_type": "markdown",
   "id": "fe219357",
   "metadata": {},
   "source": [
    "### Example 1: Add Acronym (Without Removing Existing)\n",
    "\n",
    "Add a new acronym while keeping existing ones."
   ]
  },
  {
   "cell_type": "code",
   "execution_count": null,
   "id": "4234e162",
   "metadata": {},
   "outputs": [],
   "source": [
    "# Add an acronym without removing existing ones\n",
    "print(\"Adding acronym 'SQL' to existing acronyms\\n\")\n",
    "\n",
    "# Uncomment to execute:\n",
    "# !pvw uc term update --term-id {TERM_ID_TO_UPDATE} --add-acronym \"SQL\"\n",
    "\n",
    "print(\"⚠️ Uncomment the command above to execute\")"
   ]
  },
  {
   "cell_type": "markdown",
   "id": "05c381f4",
   "metadata": {},
   "source": [
    "### Example 2: Replace All Acronyms\n",
    "\n",
    "Replace all existing acronyms with new ones."
   ]
  },
  {
   "cell_type": "code",
   "execution_count": null,
   "id": "708b9fdf",
   "metadata": {},
   "outputs": [],
   "source": [
    "# Replace all acronyms with new ones\n",
    "print(\"Replacing all acronyms with: PII, PI, Personal Info\\n\")\n",
    "\n",
    "# Uncomment to execute:\n",
    "# !pvw uc term update \\\n",
    "#     --term-id {TERM_ID_TO_UPDATE} \\\n",
    "#     --acronym \"PII\" \\\n",
    "#     --acronym \"PI\" \\\n",
    "#     --acronym \"Personal Info\"\n",
    "\n",
    "print(\"⚠️ Uncomment the command above to execute\")"
   ]
  },
  {
   "cell_type": "markdown",
   "id": "ef2fa338",
   "metadata": {},
   "source": [
    "### Example 3: Change Term Status\n",
    "\n",
    "Update the term status from Draft to Published."
   ]
  },
  {
   "cell_type": "code",
   "execution_count": null,
   "id": "79e49909",
   "metadata": {},
   "outputs": [],
   "source": [
    "# Change status from Draft to Published\n",
    "print(\"Changing status to Published\\n\")\n",
    "\n",
    "# Uncomment to execute:\n",
    "# !pvw uc term update --term-id {TERM_ID_TO_UPDATE} --status Published\n",
    "\n",
    "print(\"⚠️ Uncomment the command above to execute\")"
   ]
  },
  {
   "cell_type": "markdown",
   "id": "c136d071",
   "metadata": {},
   "source": [
    "### Example 4: Add Owner\n",
    "\n",
    "Add an owner to the term without removing existing owners."
   ]
  },
  {
   "cell_type": "code",
   "execution_count": null,
   "id": "3f0b54c5",
   "metadata": {},
   "outputs": [],
   "source": [
    "# Add an owner to existing owners\n",
    "print(\"Adding owner: newuser@company.com\")\n",
    "print(\"⚠️ Replace with a valid user ID from your organization\\n\")\n",
    "\n",
    "# Uncomment to execute:\n",
    "# !pvw uc term update --term-id {TERM_ID_TO_UPDATE} --add-owner-id \"newuser@company.com\"\n",
    "\n",
    "print(\"⚠️ Uncomment the command above to execute\")"
   ]
  },
  {
   "cell_type": "markdown",
   "id": "7083eb76",
   "metadata": {},
   "source": [
    "### Example 5: Update Multiple Properties\n",
    "\n",
    "Update multiple properties in a single command."
   ]
  },
  {
   "cell_type": "code",
   "execution_count": null,
   "id": "49ea7e12",
   "metadata": {},
   "outputs": [],
   "source": [
    "# Update multiple properties at once\n",
    "print(\"Updating multiple properties:\")\n",
    "print(\"  - Name: Updated Term Name\")\n",
    "print(\"  - Description: Updated description\")\n",
    "print(\"  - Status: Published\")\n",
    "print(\"  - Adding acronym: NewAcronym\\n\")\n",
    "\n",
    "# Uncomment to execute:\n",
    "# !pvw uc term update \\\n",
    "#     --term-id {TERM_ID_TO_UPDATE} \\\n",
    "#     --name \"Updated Term Name\" \\\n",
    "#     --description \"Updated description with more details\" \\\n",
    "#     --status Published \\\n",
    "#     --add-acronym \"NewAcronym\"\n",
    "\n",
    "print(\"⚠️ Uncomment the command above to execute\")"
   ]
  },
  {
   "cell_type": "markdown",
   "id": "f9c76cc4",
   "metadata": {},
   "source": [
    "### Example 6: Update Resources\n",
    "\n",
    "Add or replace external documentation resources."
   ]
  },
  {
   "cell_type": "code",
   "execution_count": null,
   "id": "ba32a2ad",
   "metadata": {},
   "outputs": [],
   "source": [
    "# Add new resources (replaces existing)\n",
    "print(\"Updating term resources\\n\")\n",
    "\n",
    "# Uncomment to execute:\n",
    "# !pvw uc term update \\\n",
    "#     --term-id {TERM_ID_TO_UPDATE} \\\n",
    "#     --resource-name \"ISO Standard\" \\\n",
    "#     --resource-url \"https://iso.org/standard\" \\\n",
    "#     --resource-name \"Internal Wiki\" \\\n",
    "#     --resource-url \"https://wiki.company.com/term\"\n",
    "\n",
    "print(\"⚠️ Uncomment the command above to execute\")"
   ]
  },
  {
   "cell_type": "markdown",
   "id": "ef669055",
   "metadata": {},
   "source": [
    "### Example 7: Verify Update\n",
    "\n",
    "Check the term after updating to verify changes."
   ]
  },
  {
   "cell_type": "code",
   "execution_count": null,
   "id": "435305cf",
   "metadata": {},
   "outputs": [],
   "source": [
    "# Show updated term details\n",
    "print(f\"Verifying updates for term: {TERM_ID_TO_UPDATE}\\n\")\n",
    "\n",
    "# Uncomment to execute:\n",
    "# !pvw uc term show --term-id {TERM_ID_TO_UPDATE} --json\n",
    "\n",
    "print(\"⚠️ Uncomment the command above to execute\")"
   ]
  },
  {
   "cell_type": "markdown",
   "id": "c13d97df",
   "metadata": {},
   "source": [
    "## Cleanup (Optional)\n",
    "\n",
    "Delete test terms if needed. **Use with caution!**"
   ]
  },
  {
   "cell_type": "code",
   "execution_count": null,
   "id": "d1f8c10d",
   "metadata": {},
   "outputs": [],
   "source": [
    "# Uncomment and run this cell to delete a term\n",
    "TERM_ID_TO_DELETE = \"<your-term-id-here>\"\n",
    "\n",
    "print(f\"Deleting term: {TERM_ID_TO_DELETE}\\n\")\n",
    "\n",
    "# Uncomment to execute:\n",
    "# !pvw uc term delete --term-id {TERM_ID_TO_DELETE} --force\n",
    "\n",
    "print(\"⚠️ Uncomment the command above to enable term deletion\")"
   ]
  },
  {
   "cell_type": "markdown",
   "id": "42835e70",
   "metadata": {},
   "source": [
    "## Summary\n",
    "\n",
    "This notebook demonstrated:\n",
    "\n",
    "1. ✅ Creating terms with single and multiple acronyms\n",
    "2. ✅ Assigning owners to terms\n",
    "3. ✅ Adding external resource links\n",
    "4. ✅ Setting term status (Draft, Published, Archived)\n",
    "5. ✅ Batch creating multiple terms\n",
    "6. ✅ Listing and viewing term details\n",
    "7. ✅ **Updating existing terms** (add/replace acronyms, owners, resources, status)\n",
    "\n",
    "### Key Takeaways\n",
    "\n",
    "**Creating Terms:**\n",
    "- Use `--acronym` multiple times for terms with several abbreviations\n",
    "- Use `--owner-id` multiple times to assign multiple owners\n",
    "- Pair `--resource-name` with `--resource-url` for external documentation\n",
    "- Always use `--json` flag when you need to parse CLI output programmatically\n",
    "\n",
    "**Updating Terms:**\n",
    "- Use `--add-acronym` to add acronyms without removing existing ones\n",
    "- Use `--add-owner-id` to add owners without removing existing ones\n",
    "- Use `--acronym` (without add-) to replace all acronyms\n",
    "- Use `--owner-id` (without add-) to replace all owners\n",
    "- Update multiple properties in a single command\n",
    "\n",
    "**API Notes:**\n",
    "- The UC API expects the `domain` field (not `domainId` or `governance-domain-id`)\n",
    "- Update operations fetch existing data first to preserve unchanged fields\n",
    "\n",
    "### Quick Reference\n",
    "\n",
    "```bash\n",
    "# Create a term\n",
    "pvw uc term create --name \"Term Name\" --domain-id DOMAIN_ID --acronym \"ABC\"\n",
    "\n",
    "# List terms\n",
    "pvw uc term list --domain-id DOMAIN_ID --json\n",
    "\n",
    "# Show term details\n",
    "pvw uc term show --term-id TERM_ID --json\n",
    "\n",
    "# Update term (add acronym)\n",
    "pvw uc term update --term-id TERM_ID --add-acronym \"XYZ\"\n",
    "\n",
    "# Update term (change status)\n",
    "pvw uc term update --term-id TERM_ID --status Published\n",
    "\n",
    "# Delete term\n",
    "pvw uc term delete --term-id TERM_ID --force\n",
    "```\n",
    "\n",
    "### Next Steps\n",
    "\n",
    "- Explore term relationships and hierarchies\n",
    "- Link terms to data assets\n",
    "- Set up approval workflows for term publishing\n",
    "- Create term templates for consistency\n",
    "- Use bulk operations for managing many terms at once"
   ]
  }
 ],
 "metadata": {
  "language_info": {
   "name": "python"
  }
 },
 "nbformat": 4,
 "nbformat_minor": 5
}
