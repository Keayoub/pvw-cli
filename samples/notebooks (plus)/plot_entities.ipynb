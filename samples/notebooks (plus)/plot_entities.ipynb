{
    "cells": [
        {
            "cell_type": "markdown",
            "metadata": {
                "azdata_cell_guid": "42fb003c-adf1-4eed-a34a-ebf8d53dc75e"
            },
            "source": [
                "# Plot Entities\n",
                "\n",
                "### **Pre-requisite**\n",
                "\n",
                "Install required Python packages."
            ]
        },
        {
            "cell_type": "code",
            "execution_count": null,
            "metadata": {
                "azdata_cell_guid": "fa059e9f-27cd-4b93-b8cc-4f68bff46116"
            },
            "outputs": [],
            "source": [
                "%pip install --upgrade pvw-cli\n",
                "%pip install --upgrade pandas\n",
                "%pip install --upgrade matplotlib"
            ]
        },
        {
            "cell_type": "markdown",
            "metadata": {
                "azdata_cell_guid": "6b048dc1-2f85-4fb7-8ebf-c10951e1b816"
            },
            "source": [
                "Load Python Libraries"
            ]
        },
        {
            "cell_type": "code",
            "execution_count": null,
            "metadata": {
                "azdata_cell_guid": "0d5bd915-00c6-4e76-ba2d-a8c250a7286a",
                "tags": []
            },
            "outputs": [],
            "source": [
                "import json\n",
                "import pandas as pd"
            ]
        },
        {
            "cell_type": "markdown",
            "metadata": {
                "azdata_cell_guid": "f2c9d29c-d3b2-48aa-9c37-f85b2adb8d58"
            },
            "source": [
                "### **1\\. Set the Environment Variable**\n",
                "\n",
                "Before purviewcli can be used, the environment variable `PURVIEW_ACCOUNT_NAME` needs to be set."
            ]
        },
        {
            "cell_type": "code",
            "execution_count": null,
            "metadata": {
                "azdata_cell_guid": "c5ec8581-3c04-4b60-b3e9-3b41571832fc"
            },
            "outputs": [],
            "source": [
                "# Environment Variables\n",
                "%env PURVIEW_ACCOUNT_NAME=YOUR_PURVIEW_ACCOUNT_NAME\n",
                "%env AZURE_CLIENT_ID=YOUR_CLIENT_ID\n",
                "%env AZURE_TENANT_ID=YOUR_TENANT_ID\n",
                "%env AZURE_CLIENT_SECRET=YOUR_CLIENT_SECRET"
            ]
        },
        {
            "cell_type": "markdown",
            "metadata": {
                "azdata_cell_guid": "8b6fd8b1-8b0f-478f-b5b5-a7098fbda326"
            },
            "source": [
                "### **1\\. Populate DataFrame**\n",
                "\n",
                "Populate Pandas DataFrame with Microsoft Purview search results."
            ]
        },
        {
            "cell_type": "code",
            "execution_count": null,
            "metadata": {
                "azdata_cell_guid": "b2389358-9972-4ff8-9d48-fdd0bcfbcce9",
                "tags": []
            },
            "outputs": [],
            "source": [
                "# Initialise Variables\n",
                "batch_size = 500\n",
                "offset = 0\n",
                "my_items = []\n",
                "\n",
                "# Initial Search Query\n",
                "my_output = !pvw search query --keywords \"*\" --limit {batch_size}\n",
                "my_data = json.loads(''.join(my_output))\n",
                "my_items.extend(my_data['value'])\n",
                "offset += batch_size\n",
                "\n",
                "# Additional Requests\n",
                "search_count = my_data['@search.count']\n",
                "while offset < search_count:\n",
                "    my_output = !pvw search query --keywords \"*\" --limit {batch_size} --offset {offset}\n",
                "    my_data = json.loads(''.join(my_output))\n",
                "    my_items.extend(my_data['value'])\n",
                "    offset += batch_size\n",
                "df = pd.DataFrame(my_items)"
            ]
        },
        {
            "cell_type": "markdown",
            "metadata": {
                "azdata_cell_guid": "4ceda50e-10b4-4a36-b94f-495087a6384b"
            },
            "source": [
                "### **2\\. Plot Graph**\n",
                "\n",
                "Example of how to plot number of entities by type."
            ]
        },
        {
            "cell_type": "code",
            "execution_count": null,
            "metadata": {
                "azdata_cell_guid": "554eaab9-1064-4d45-a00b-8d22afae6c27",
                "tags": []
            },
            "outputs": [],
            "source": [
                "plotdata = df['entityType'].value_counts().sort_values(ascending=True)\n",
                "ax = plotdata.plot(kind='barh', figsize=(10,10))\n",
                "for i in ax.patches:\n",
                "    ax.text(i.get_width()+1, i.get_y(), str(i.get_width()), fontsize=10, color='dimgrey')"
            ]
        },
        {
            "cell_type": "code",
            "execution_count": null,
            "metadata": {},
            "outputs": [],
            "source": []
        }
    ],
    "metadata": {
        "kernelspec": {
            "display_name": "Python 3.9.2 64-bit",
            "name": "python392jvsc74a57bd0574e4e3fa2caffcca541e866ecc3c3fa6a3324d93e0b2e094715f4fe33f8825b"
        },
        "language_info": {
            "codemirror_mode": {
                "name": "ipython",
                "version": 3
            },
            "file_extension": ".py",
            "mimetype": "text/x-python",
            "name": "python",
            "nbconvert_exporter": "python",
            "pygments_lexer": "ipython3",
            "version": "3.9.2"
        },
        "metadata": {
            "interpreter": {
                "hash": "574e4e3fa2caffcca541e866ecc3c3fa6a3324d93e0b2e094715f4fe33f8825b"
            }
        }
    },
    "nbformat": 4,
    "nbformat_minor": 2
}
