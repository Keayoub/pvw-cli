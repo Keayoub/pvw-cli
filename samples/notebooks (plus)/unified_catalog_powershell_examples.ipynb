{
 "cells": [
  {
   "cell_type": "markdown",
   "id": "671ab4a4",
   "metadata": {},
   "source": [
    "# Microsoft Purview Unified Catalog - PowerShell Integration Examples\n",
    "\n",
    "This notebook demonstrates how to use the PVW CLI with PowerShell scripting for automation and data manipulation.\n",
    "\n",
    "## What You'll Learn\n",
    "- Fetching terms as JSON and converting to PowerShell objects\n",
    "- Filtering and searching through term collections\n",
    "- Bulk operations using PowerShell loops\n",
    "- Exporting data to CSV for reporting\n",
    "- Practical automation scenarios\n",
    "\n",
    "## Prerequisites\n",
    "- PVW CLI installed (`pip install pvw-cli`)\n",
    "- Azure authentication configured (`az login`)\n",
    "- PowerShell kernel for Jupyter (or run cells in PowerShell terminal)\n",
    "- At least one governance domain with terms created"
   ]
  },
  {
   "cell_type": "markdown",
   "id": "ac6cd394",
   "metadata": {},
   "source": [
    "## Setup and Configuration"
   ]
  },
  {
   "cell_type": "code",
   "execution_count": null,
   "id": "e495f338",
   "metadata": {},
   "outputs": [],
   "source": [
    "# Set your domain ID here\n",
    "$domainId = \"<your-domain-id>\"  # Replace with your actual domain ID\n",
    "\n",
    "Write-Host \"Configuration loaded. Using domain ID: $domainId\" -ForegroundColor Green"
   ]
  },
  {
   "cell_type": "markdown",
   "id": "ddbb27aa",
   "metadata": {},
   "source": [
    "## Example 1: Fetch and Display All Terms\n",
    "\n",
    "Get all terms from a domain and convert to PowerShell objects."
   ]
  },
  {
   "cell_type": "code",
   "execution_count": null,
   "id": "b26141c9",
   "metadata": {},
   "outputs": [],
   "source": [
    "# Fetch all terms as JSON and convert to PowerShell objects\n",
    "$terms = py -m purviewcli uc term list --domain-id $domainId --output json | ConvertFrom-Json\n",
    "\n",
    "# Display summary\n",
    "Write-Host \"\\nFound $($terms.Count) terms in domain\" -ForegroundColor Cyan\n",
    "\n",
    "# Display first 5 terms\n",
    "$terms | Select-Object -First 5 | Format-Table name, status, id -AutoSize"
   ]
  },
  {
   "cell_type": "markdown",
   "id": "8b5de3e0",
   "metadata": {},
   "source": [
    "## Example 2: Find a Specific Term by Name\n",
    "\n",
    "Search for a term by its exact name."
   ]
  },
  {
   "cell_type": "code",
   "execution_count": null,
   "id": "be7e0a3d",
   "metadata": {},
   "outputs": [],
   "source": [
    "# Find term by exact name\n",
    "$searchName = \"Customer Acquisition Cost\"\n",
    "$term = $terms | Where-Object { $_.name -eq $searchName }\n",
    "\n",
    "if ($term) {\n",
    "    Write-Host \"\\nFound term: $($term.name)\" -ForegroundColor Green\n",
    "    Write-Host \"ID: $($term.id)\"\n",
    "    Write-Host \"Status: $($term.status)\"\n",
    "    Write-Host \"Description: $($term.description)\"\n",
    "    if ($term.acronyms) {\n",
    "        Write-Host \"Acronyms: $($term.acronyms -join ', ')\"\n",
    "    }\n",
    "} else {\n",
    "    Write-Host \"Term '$searchName' not found\" -ForegroundColor Yellow\n",
    "}"
   ]
  },
  {
   "cell_type": "markdown",
   "id": "ad94f56f",
   "metadata": {},
   "source": [
    "## Example 3: Search Terms by Partial Name\n",
    "\n",
    "Find all terms containing a specific keyword."
   ]
  },
  {
   "cell_type": "code",
   "execution_count": null,
   "id": "eba26572",
   "metadata": {},
   "outputs": [],
   "source": [
    "# Search for terms containing a keyword\n",
    "$keyword = \"Customer\"\n",
    "$matches = $terms | Where-Object { $_.name -like \"*$keyword*\" }\n",
    "\n",
    "Write-Host \"\\nFound $($matches.Count) terms containing '$keyword'\" -ForegroundColor Cyan\n",
    "$matches | Format-Table name, status, id -AutoSize"
   ]
  },
  {
   "cell_type": "markdown",
   "id": "a01c4b6e",
   "metadata": {},
   "source": [
    "## Example 4: Filter Terms by Status\n",
    "\n",
    "Get all terms with a specific status (Published, Draft, Archived)."
   ]
  },
  {
   "cell_type": "code",
   "execution_count": null,
   "id": "db65e8bb",
   "metadata": {},
   "outputs": [],
   "source": [
    "# Get all published terms\n",
    "$publishedTerms = $terms | Where-Object { $_.status -eq \"Published\" }\n",
    "Write-Host \"\\nPublished Terms: $($publishedTerms.Count)\" -ForegroundColor Green\n",
    "$publishedTerms | Format-Table name, status -AutoSize\n",
    "\n",
    "# Get all draft terms\n",
    "$draftTerms = $terms | Where-Object { $_.status -eq \"Draft\" }\n",
    "Write-Host \"\\nDraft Terms: $($draftTerms.Count)\" -ForegroundColor Yellow\n",
    "$draftTerms | Format-Table name, status -AutoSize"
   ]
  },
  {
   "cell_type": "markdown",
   "id": "0b50bbd4",
   "metadata": {},
   "source": [
    "## Example 5: Search in Descriptions\n",
    "\n",
    "Find terms based on keywords in their descriptions."
   ]
  },
  {
   "cell_type": "code",
   "execution_count": null,
   "id": "2fe0e48a",
   "metadata": {},
   "outputs": [],
   "source": [
    "# Search for terms with specific keywords in description\n",
    "$descKeyword = \"customer\"\n",
    "$matches = $terms | Where-Object { $_.description -like \"*$descKeyword*\" }\n",
    "\n",
    "Write-Host \"\\nTerms with '$descKeyword' in description: $($matches.Count)\" -ForegroundColor Cyan\n",
    "$matches | Select-Object name, @{Name='Description';Expression={$_.description.Substring(0,[Math]::Min(50,$_.description.Length)) + '...'}} | Format-Table -AutoSize"
   ]
  },
  {
   "cell_type": "markdown",
   "id": "6fbebce9",
   "metadata": {},
   "source": [
    "## Example 6: Find Terms by Acronym\n",
    "\n",
    "Search for terms that have a specific acronym."
   ]
  },
  {
   "cell_type": "code",
   "execution_count": null,
   "id": "0d30cf55",
   "metadata": {},
   "outputs": [],
   "source": [
    "# Find terms with a specific acronym\n",
    "$acronymSearch = \"CAC\"\n",
    "$matches = $terms | Where-Object { $_.acronyms -contains $acronymSearch }\n",
    "\n",
    "Write-Host \"\\nTerms with acronym '$acronymSearch': $($matches.Count)\" -ForegroundColor Cyan\n",
    "$matches | Format-Table name, @{Name='Acronyms';Expression={$_.acronyms -join ', '}}, status -AutoSize"
   ]
  },
  {
   "cell_type": "markdown",
   "id": "dca760df",
   "metadata": {},
   "source": [
    "## Example 7: Get Term Details\n",
    "\n",
    "Fetch detailed information about a specific term."
   ]
  },
  {
   "cell_type": "code",
   "execution_count": null,
   "id": "d1ecddf0",
   "metadata": {},
   "outputs": [],
   "source": [
    "# Get the first term's ID\n",
    "$termId = $terms[0].id\n",
    "\n",
    "# Fetch detailed information\n",
    "$termDetails = py -m purviewcli uc term show --term-id $termId --json | ConvertFrom-Json\n",
    "\n",
    "Write-Host \"\\nTerm Details:\" -ForegroundColor Cyan\n",
    "Write-Host \"Name: $($termDetails.name)\"\n",
    "Write-Host \"ID: $($termDetails.id)\"\n",
    "Write-Host \"Status: $($termDetails.status)\"\n",
    "Write-Host \"Description: $($termDetails.description)\"\n",
    "\n",
    "if ($termDetails.acronyms) {\n",
    "    Write-Host \"Acronyms: $($termDetails.acronyms -join ', ')\"\n",
    "}\n",
    "\n",
    "if ($termDetails.contacts.owner) {\n",
    "    Write-Host \"\\nOwners:\"\n",
    "    $termDetails.contacts.owner | ForEach-Object { Write-Host \"  - $($_.id)\" }\n",
    "}\n",
    "\n",
    "if ($termDetails.resources) {\n",
    "    Write-Host \"\\nResources:\"\n",
    "    $termDetails.resources | ForEach-Object { Write-Host \"  - $($_.name): $($_.url)\" }\n",
    "}"
   ]
  },
  {
   "cell_type": "markdown",
   "id": "60c27642",
   "metadata": {},
   "source": [
    "## Example 8: Export Terms to CSV\n",
    "\n",
    "Export term data to a CSV file for reporting or analysis."
   ]
  },
  {
   "cell_type": "code",
   "execution_count": null,
   "id": "2de1d0ab",
   "metadata": {},
   "outputs": [],
   "source": [
    "# Export terms to CSV\n",
    "$exportPath = \"../csv/terms_export.csv\"\n",
    "\n",
    "# Create export data with flattened structure\n",
    "$exportData = $terms | ForEach-Object {\n",
    "    [PSCustomObject]@{\n",
    "        Name = $_.name\n",
    "        ID = $_.id\n",
    "        Status = $_.status\n",
    "        Description = $_.description\n",
    "        Acronyms = if ($_.acronyms) { $_.acronyms -join '; ' } else { '' }\n",
    "        Domain = $_.domain\n",
    "    }\n",
    "}\n",
    "\n",
    "$exportData | Export-Csv -Path $exportPath -NoTypeInformation -Encoding UTF8\n",
    "\n",
    "Write-Host \"\\nExported $($exportData.Count) terms to: $exportPath\" -ForegroundColor Green"
   ]
  },
  {
   "cell_type": "markdown",
   "id": "e2fe4ed5",
   "metadata": {},
   "source": [
    "## Example 9: Group Terms by Status\n",
    "\n",
    "Get statistics about term status distribution."
   ]
  },
  {
   "cell_type": "code",
   "execution_count": null,
   "id": "12133b66",
   "metadata": {},
   "outputs": [],
   "source": [
    "# Group terms by status and count\n",
    "$statusGroups = $terms | Group-Object -Property status\n",
    "\n",
    "Write-Host \"\\nTerm Status Distribution:\" -ForegroundColor Cyan\n",
    "$statusGroups | ForEach-Object {\n",
    "    Write-Host \"  $($_.Name): $($_.Count) terms\" -ForegroundColor $(if ($_.Name -eq 'Published') { 'Green' } else { 'Yellow' })\n",
    "}\n",
    "\n",
    "# Display as table\n",
    "$statusGroups | Select-Object @{Name='Status';Expression={$_.Name}}, Count | Format-Table -AutoSize"
   ]
  },
  {
   "cell_type": "markdown",
   "id": "921155ff",
   "metadata": {},
   "source": [
    "## Example 10: Find Terms Without Acronyms\n",
    "\n",
    "Identify terms that might need acronyms added."
   ]
  },
  {
   "cell_type": "code",
   "execution_count": null,
   "id": "68b19bc2",
   "metadata": {},
   "outputs": [],
   "source": [
    "# Find terms without acronyms\n",
    "$termsWithoutAcronyms = $terms | Where-Object { -not $_.acronyms -or $_.acronyms.Count -eq 0 }\n",
    "\n",
    "Write-Host \"\\nTerms without acronyms: $($termsWithoutAcronyms.Count)\" -ForegroundColor Yellow\n",
    "$termsWithoutAcronyms | Select-Object name, status, id | Format-Table -AutoSize"
   ]
  },
  {
   "cell_type": "markdown",
   "id": "6be8c567",
   "metadata": {},
   "source": [
    "## Example 11: Bulk Update - Change Status\n",
    "\n",
    "Update multiple terms from Draft to Published."
   ]
  },
  {
   "cell_type": "code",
   "execution_count": null,
   "id": "5864da78",
   "metadata": {},
   "outputs": [],
   "source": [
    "# Get all draft terms\n",
    "$draftTerms = $terms | Where-Object { $_.status -eq \"Draft\" }\n",
    "\n",
    "Write-Host \"\\nFound $($draftTerms.Count) draft terms\" -ForegroundColor Yellow\n",
    "Write-Host \"\\n[INFO] Uncomment the code below to publish all draft terms\\n\" -ForegroundColor Cyan\n",
    "\n",
    "# Uncomment to execute bulk publish\n",
    "# $confirmPublish = Read-Host \"Do you want to publish all draft terms? (yes/no)\"\n",
    "# if ($confirmPublish -eq \"yes\") {\n",
    "#     $publishedCount = 0\n",
    "#     $failedCount = 0\n",
    "#     \n",
    "#     foreach ($term in $draftTerms) {\n",
    "#         Write-Host \"Publishing: $($term.name)...\" -NoNewline\n",
    "#         try {\n",
    "#             py -m purviewcli uc term update --term-id $term.id --status Published\n",
    "#             Write-Host \" [OK]\" -ForegroundColor Green\n",
    "#             $publishedCount++\n",
    "#         } catch {\n",
    "#             Write-Host \" [FAILED]\" -ForegroundColor Red\n",
    "#             $failedCount++\n",
    "#         }\n",
    "#         Start-Sleep -Milliseconds 200  # Rate limiting\n",
    "#     }\n",
    "#     \n",
    "#     Write-Host \"\\nPublished: $publishedCount, Failed: $failedCount\" -ForegroundColor Cyan\n",
    "# }\n",
    "\n",
    "Write-Host \"Preview of terms that would be published:\"\n",
    "$draftTerms | Select-Object -First 5 | Format-Table name, status -AutoSize"
   ]
  },
  {
   "cell_type": "markdown",
   "id": "c3d0b61b",
   "metadata": {},
   "source": [
    "## Example 12: List All Domains\n",
    "\n",
    "Fetch all governance domains and their details."
   ]
  },
  {
   "cell_type": "code",
   "execution_count": null,
   "id": "35f8490f",
   "metadata": {},
   "outputs": [],
   "source": [
    "# List all governance domains\n",
    "$domains = py -m purviewcli uc domain list --output json | ConvertFrom-Json\n",
    "\n",
    "Write-Host \"\\nFound $($domains.Count) governance domains\" -ForegroundColor Cyan\n",
    "$domains | Format-Table id, name, type, status -AutoSize\n",
    "\n",
    "# Show domain IDs for easy reference\n",
    "Write-Host \"\\nDomain IDs for reference:\" -ForegroundColor Yellow\n",
    "$domains | ForEach-Object {\n",
    "    Write-Host \"  $($_.name): $($_.id)\" -ForegroundColor Gray\n",
    "}"
   ]
  },
  {
   "cell_type": "markdown",
   "id": "35475543",
   "metadata": {},
   "source": [
    "## Example 13: Compare Terms Across Domains\n",
    "\n",
    "Get term counts for multiple domains."
   ]
  },
  {
   "cell_type": "code",
   "execution_count": null,
   "id": "22b97a67",
   "metadata": {},
   "outputs": [],
   "source": [
    "# Get all domains\n",
    "$domains = py -m purviewcli uc domain list --output json | ConvertFrom-Json\n",
    "\n",
    "Write-Host \"\\nTerm counts by domain:\" -ForegroundColor Cyan\n",
    "\n",
    "$domainStats = @()\n",
    "foreach ($domain in $domains) {\n",
    "    $domainTerms = py -m purviewcli uc term list --domain-id $domain.id --output json | ConvertFrom-Json\n",
    "    $publishedCount = ($domainTerms | Where-Object { $_.status -eq \"Published\" }).Count\n",
    "    $draftCount = ($domainTerms | Where-Object { $_.status -eq \"Draft\" }).Count\n",
    "    \n",
    "    $domainStats += [PSCustomObject]@{\n",
    "        Domain = $domain.name\n",
    "        Total = $domainTerms.Count\n",
    "        Published = $publishedCount\n",
    "        Draft = $draftCount\n",
    "    }\n",
    "}\n",
    "\n",
    "$domainStats | Format-Table -AutoSize"
   ]
  },
  {
   "cell_type": "markdown",
   "id": "fdc643b4",
   "metadata": {},
   "source": [
    "## Example 14: Search Terms with Multiple Criteria\n",
    "\n",
    "Combine multiple filters for advanced searches."
   ]
  },
  {
   "cell_type": "code",
   "execution_count": null,
   "id": "839516fd",
   "metadata": {},
   "outputs": [],
   "source": [
    "# Search for published terms containing \"customer\" in name or description\n",
    "$complexSearch = $terms | Where-Object {\n",
    "    ($_.status -eq \"Published\") -and \n",
    "    (($_.name -like \"*customer*\") -or ($_.description -like \"*customer*\"))\n",
    "}\n",
    "\n",
    "Write-Host \"\\nPublished terms related to 'customer': $($complexSearch.Count)\" -ForegroundColor Cyan\n",
    "$complexSearch | Format-Table name, status, @{Name='HasAcronym';Expression={$_.acronyms.Count -gt 0}} -AutoSize"
   ]
  },
  {
   "cell_type": "markdown",
   "id": "42ea65fc",
   "metadata": {},
   "source": [
    "## Example 15: Create a Term Report\n",
    "\n",
    "Generate a comprehensive report with term statistics."
   ]
  },
  {
   "cell_type": "code",
   "execution_count": null,
   "id": "8661adcd",
   "metadata": {},
   "outputs": [],
   "source": [
    "# Generate comprehensive term report\n",
    "Write-Host \"\\n\" + \"=\"*80 -ForegroundColor Cyan\n",
    "Write-Host \"UNIFIED CATALOG TERMS REPORT\" -ForegroundColor Cyan\n",
    "Write-Host \"=\"*80 + \"\\n\" -ForegroundColor Cyan\n",
    "\n",
    "Write-Host \"Domain ID: $domainId\" -ForegroundColor Gray\n",
    "Write-Host \"Generated: $(Get-Date -Format 'yyyy-MM-dd HH:mm:ss')\" -ForegroundColor Gray\n",
    "Write-Host \"\"\n",
    "\n",
    "# Overall stats\n",
    "Write-Host \"OVERVIEW\" -ForegroundColor Yellow\n",
    "Write-Host \"Total Terms: $($terms.Count)\"\n",
    "Write-Host \"Published: $($terms | Where-Object { $_.status -eq 'Published' }).Count\"\n",
    "Write-Host \"Draft: $($terms | Where-Object { $_.status -eq 'Draft' }).Count\"\n",
    "Write-Host \"Archived: $($terms | Where-Object { $_.status -eq 'Archived' }).Count\"\n",
    "Write-Host \"\"\n",
    "\n",
    "# Acronym stats\n",
    "$withAcronyms = ($terms | Where-Object { $_.acronyms -and $_.acronyms.Count -gt 0 }).Count\n",
    "Write-Host \"ACRONYMS\" -ForegroundColor Yellow\n",
    "Write-Host \"Terms with acronyms: $withAcronyms\"\n",
    "Write-Host \"Terms without acronyms: $($terms.Count - $withAcronyms)\"\n",
    "Write-Host \"\"\n",
    "\n",
    "# Top 10 terms\n",
    "Write-Host \"TOP 10 TERMS (by name)\" -ForegroundColor Yellow\n",
    "$terms | Sort-Object name | Select-Object -First 10 | Format-Table name, status -AutoSize\n",
    "\n",
    "Write-Host \"\\n\" + \"=\"*80 -ForegroundColor Cyan"
   ]
  },
  {
   "cell_type": "markdown",
   "id": "a231cb6d",
   "metadata": {},
   "source": [
    "## Summary\n",
    "\n",
    "This notebook demonstrated:\n",
    "\n",
    "1. ✅ **Fetching data** - Using `--output json` for PowerShell integration\n",
    "2. ✅ **Filtering** - Using `Where-Object` for various search criteria\n",
    "3. ✅ **Searching** - By name, description, status, and acronyms\n",
    "4. ✅ **Exporting** - Creating CSV reports for external analysis\n",
    "5. ✅ **Statistics** - Grouping and counting terms\n",
    "6. ✅ **Bulk operations** - Updating multiple terms efficiently\n",
    "7. ✅ **Reporting** - Generating comprehensive term reports\n",
    "\n",
    "### Key PowerShell Cmdlets Used\n",
    "\n",
    "- `ConvertFrom-Json` - Parse JSON output from CLI\n",
    "- `Where-Object` - Filter collections\n",
    "- `Select-Object` - Choose specific properties\n",
    "- `Format-Table` - Display data in tables\n",
    "- `Group-Object` - Group and count items\n",
    "- `Export-Csv` - Export data to CSV files\n",
    "- `ForEach-Object` - Loop through collections\n",
    "\n",
    "### Next Steps\n",
    "\n",
    "- Automate term creation from external data sources\n",
    "- Build approval workflows for term publishing\n",
    "- Create scheduled reports using PowerShell scripts\n",
    "- Integrate with Azure DevOps or GitHub Actions\n",
    "- Build custom dashboards with term statistics\n",
    "\n",
    "For more examples, see:\n",
    "- `unified_catalog_terms_examples.ipynb` - Python examples\n",
    "- `scripts/delete-all-uc-terms.ps1` - Bulk delete script\n",
    "- `README.md` - Full documentation"
   ]
  }
 ],
 "metadata": {
  "language_info": {
   "name": "python"
  }
 },
 "nbformat": 4,
 "nbformat_minor": 5
}
