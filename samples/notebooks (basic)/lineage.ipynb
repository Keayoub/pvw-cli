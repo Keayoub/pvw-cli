{
 "cells": [
  {
   "cell_type": "markdown",
   "metadata": {},
   "source": [
    "# Lineage"
   ]
  },
  {
   "cell_type": "code",
   "execution_count": null,
   "metadata": {},
   "outputs": [],
   "source": [
    "# Install/Upgrade purviewcli package\n",
    "%pip install --upgrade pvw-cli"
   ]
  },
  {
   "cell_type": "code",
   "execution_count": null,
   "metadata": {},
   "outputs": [],
   "source": [
    "# Environment Variables\n",
    "%env PURVIEW_ACCOUNT_NAME=YOUR_PURVIEW_ACCOUNT_NAME\n",
    "%env AZURE_CLIENT_ID=YOUR_CLIENT_ID\n",
    "%env AZURE_TENANT_ID=YOUR_TENANT_ID\n",
    "%env AZURE_CLIENT_SECRET=YOUR_CLIENT_SECRET"
   ]
  },
  {
   "cell_type": "code",
   "execution_count": null,
   "metadata": {},
   "outputs": [],
   "source": [
    "# Commands\n",
    "!pvw lineage --help"
   ]
  },
  {
   "cell_type": "markdown",
   "metadata": {},
   "source": [
    "##  Read"
   ]
  },
  {
   "cell_type": "code",
   "execution_count": null,
   "metadata": {},
   "outputs": [],
   "source": [
    "# Read\n",
    "!pvw lineage read --guid \"8cf4916b-a0a6-4c21-9efe-1e6c43fe886c\""
   ]
  },
  {
   "cell_type": "markdown",
   "metadata": {},
   "source": [
    "## Read Next"
   ]
  },
  {
   "cell_type": "code",
   "execution_count": null,
   "metadata": {},
   "outputs": [],
   "source": [
    "# Read Next\n",
    "!pvw lineage readNext --guid \"8cf4916b-a0a6-4c21-9efe-1e6c43fe886c\""
   ]
  }
 ],
 "metadata": {
  "kernelspec": {
   "display_name": "Python 3.9.2 64-bit ('env': venv)",
   "name": "pythonjvsc74a57bd012e36838d520b1a5d9d0c411170e079c62a783e05fdada350eba99892041e52f"
  },
  "language_info": {
   "codemirror_mode": {
    "name": "ipython",
    "version": 3
   },
   "file_extension": ".py",
   "mimetype": "text/x-python",
   "name": "python",
   "nbconvert_exporter": "python",
   "pygments_lexer": "ipython3",
   "version": "3.9.2"
  },
  "metadata": {
   "interpreter": {
    "hash": "12e36838d520b1a5d9d0c411170e079c62a783e05fdada350eba99892041e52f"
   }
  },
  "orig_nbformat": 2
 },
 "nbformat": 4,
 "nbformat_minor": 2
}
