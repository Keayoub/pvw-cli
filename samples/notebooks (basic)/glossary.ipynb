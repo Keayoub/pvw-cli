{
 "cells": [
  {
   "cell_type": "markdown",
   "metadata": {},
   "source": [
    "# Glossary"
   ]
  },
  {
   "cell_type": "code",
   "execution_count": null,
   "metadata": {},
   "outputs": [],
   "source": [
    "# Install/Upgrade purviewcli package\n",
    "%pip install --upgrade pvw-cli"
   ]
  },
  {
   "cell_type": "code",
   "execution_count": null,
   "metadata": {},
   "outputs": [],
   "source": [
    "# Environment Variables\n",
    "%env PURVIEW_ACCOUNT_NAME=YOUR_PURVIEW_ACCOUNT_NAME\n",
    "%env AZURE_CLIENT_ID=YOUR_CLIENT_ID\n",
    "%env AZURE_TENANT_ID=YOUR_TENANT_ID\n",
    "%env AZURE_CLIENT_SECRET=YOUR_CLIENT_SECRET"
   ]
  },
  {
   "cell_type": "code",
   "execution_count": null,
   "metadata": {},
   "outputs": [],
   "source": [
    "# Commands\n",
    "!pvw glossary --help"
   ]
  },
  {
   "cell_type": "markdown",
   "metadata": {},
   "source": [
    "## Create Glossary"
   ]
  },
  {
   "cell_type": "code",
   "execution_count": 1,
   "metadata": {},
   "outputs": [
    {
     "name": "stdout",
     "output_type": "stream",
     "text": [
      "[ERROR] Environment variable PURVIEW_ACCOUNT_NAME is missing.\n",
      "\n",
      "Please configure the PURVIEW_ACCOUNT_NAME environment variable. Setting environment variables can vary by environment, see examples below.\n",
      "\tWindows (Command Prompt):\tset PURVIEW_ACCOUNT_NAME=value\n",
      "\tmacOS (Terminal):\t\texport PURVIEW_ACCOUNT_NAME=value\n",
      "\tPython:\t\t\t\tos.environ[\"PURVIEW_ACCOUNT_NAME\"] = \"value\"\n",
      "\tPowerShell:\t\t\t$env:PURVIEW_ACCOUNT_NAME = \"value\"\n",
      "\tJupyter Notebook:\t\t%env PURVIEW_ACCOUNT_NAME=value\n",
      "\n",
      "Alternatively, an Azure Purview account name can be provided by appending --purviewName=<val> at the end of your command.\n",
      "\n"
     ]
    }
   ],
   "source": [
    "# Create\n",
    "!pvw glossary create --payloadFile \"../json/glossary/glossary.json\""
   ]
  },
  {
   "cell_type": "markdown",
   "metadata": {},
   "source": [
    "## Read Glossary"
   ]
  },
  {
   "cell_type": "code",
   "execution_count": null,
   "metadata": {},
   "outputs": [],
   "source": [
    "# Read Glossary\n",
    "!pvw glossary read --glossaryGuid \"8c479fd1-b262-46ab-94a0-d2c24b268cef\""
   ]
  },
  {
   "cell_type": "markdown",
   "metadata": {},
   "source": [
    "## Update Glossary"
   ]
  },
  {
   "cell_type": "code",
   "execution_count": null,
   "metadata": {},
   "outputs": [],
   "source": [
    "# Update\n",
    "!pvw glossary put --glossaryGuid \"8c479fd1-b262-46ab-94a0-d2c24b268cef\" --payloadFile \"../json/glossary/glossary.json\""
   ]
  },
  {
   "cell_type": "markdown",
   "metadata": {},
   "source": [
    "## Delete Glossary"
   ]
  },
  {
   "cell_type": "code",
   "execution_count": null,
   "metadata": {},
   "outputs": [],
   "source": [
    "# Delete\n",
    "!pvw glossary delete --glossaryGuid \"8c479fd1-b262-46ab-94a0-d2c24b268cef\""
   ]
  },
  {
   "cell_type": "markdown",
   "metadata": {},
   "source": [
    "## Create Term"
   ]
  },
  {
   "cell_type": "code",
   "execution_count": null,
   "metadata": {},
   "outputs": [],
   "source": [
    "!pvw glossary createTerm --payloadFile \"../json/glossary/term.json\""
   ]
  },
  {
   "cell_type": "markdown",
   "metadata": {},
   "source": [
    "## Read Term"
   ]
  },
  {
   "cell_type": "code",
   "execution_count": null,
   "metadata": {},
   "outputs": [],
   "source": [
    "!pvw glossary readTerm --termGuid \"b6988d68-2f9d-4342-8e78-d06cc3cf053c\" "
   ]
  },
  {
   "cell_type": "markdown",
   "metadata": {},
   "source": [
    "## Update Term"
   ]
  },
  {
   "cell_type": "code",
   "execution_count": null,
   "metadata": {},
   "outputs": [],
   "source": [
    "!pvw glossary putTerm --termGuid \"9d0d73ea-c5dc-455b-815b-50e8d55399d3\" --payloadFile \"../json/glossary/term.json\""
   ]
  },
  {
   "cell_type": "markdown",
   "metadata": {},
   "source": [
    "## Delete Term"
   ]
  },
  {
   "cell_type": "code",
   "execution_count": null,
   "metadata": {},
   "outputs": [],
   "source": [
    "!pvw glossary deleteTerm --termGuid \"b6988d68-2f9d-4342-8e78-d06cc3cf053c\""
   ]
  },
  {
   "cell_type": "markdown",
   "metadata": {},
   "source": [
    "## Create Terms"
   ]
  },
  {
   "cell_type": "code",
   "execution_count": null,
   "metadata": {},
   "outputs": [],
   "source": [
    "!pvw glossary createTerms --payloadFile \"../json/glossary/terms.json\""
   ]
  },
  {
   "cell_type": "markdown",
   "metadata": {},
   "source": [
    "## Read Terms"
   ]
  },
  {
   "cell_type": "code",
   "execution_count": null,
   "metadata": {},
   "outputs": [],
   "source": [
    "!pvw glossary readTerms --glossaryName \"Glossary\""
   ]
  },
  {
   "cell_type": "markdown",
   "metadata": {},
   "source": [
    "## Assign Term to Entitie(s)"
   ]
  },
  {
   "cell_type": "code",
   "execution_count": null,
   "metadata": {},
   "outputs": [],
   "source": [
    "!pvw glossary createTermsAssignedEntities --termGuid \"f3be80b0-9fa2-4d95-b73b-2479f050d47a\" --payloadFile \"../json/glossary/entities.json\""
   ]
  }
 ],
 "metadata": {
  "kernelspec": {
   "display_name": ".venv",
   "language": "python",
   "name": "python3"
  },
  "language_info": {
   "codemirror_mode": {
    "name": "ipython",
    "version": 3
   },
   "file_extension": ".py",
   "mimetype": "text/x-python",
   "name": "python",
   "nbconvert_exporter": "python",
   "pygments_lexer": "ipython3",
   "version": "3.10.11"
  },
  "metadata": {
   "interpreter": {
    "hash": "12e36838d520b1a5d9d0c411170e079c62a783e05fdada350eba99892041e52f"
   }
  },
  "orig_nbformat": 2
 },
 "nbformat": 4,
 "nbformat_minor": 2
}
