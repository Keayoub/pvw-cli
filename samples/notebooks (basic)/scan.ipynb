{
    "cells": [
        {
            "cell_type": "markdown",
            "metadata": {},
            "source": [
                "# Scan and Manage Data Sources in Microsoft Purview\n",
                "\n",
                "This notebook demonstrates how to scan, classify, and manage data sources in Microsoft Purview using the PVW CLI, including classification rules, filters, key vaults, and scan history.\n",
                "\n",
                "**For detailed CLI and API documentation, see the main [README](../..//README.md) and [PVW_and_PurviewClient.md](../../docs/PVW_and_PurviewClient.md).**\n"
            ]
        },
        {
            "cell_type": "markdown",
            "metadata": {
                "azdata_cell_guid": "42fb003c-adf1-4eed-a34a-ebf8d53dc75e"
            },
            "source": [
                "# Scanning Data Plane"
            ]
        },
        {
            "cell_type": "code",
            "execution_count": 1,
            "metadata": {
                "azdata_cell_guid": "fa059e9f-27cd-4b93-b8cc-4f68bff46116"
            },
            "outputs": [],
            "source": [
                "# Install/Upgrade purviewcli package\n",
                "%pip install --upgrade pvw-cli"
            ]
        },
        {
            "cell_type": "code",
            "execution_count": null,
            "metadata": {
                "azdata_cell_guid": "c5ec8581-3c04-4b60-b3e9-3b41571832fc"
            },
            "outputs": [
                {
                    "name": "stdout",
                    "output_type": "stream",
                    "text": [
                        "env: PURVIEW_ACCOUNT_NAME=\"my-purview-account\"\n",
                        "env: AZURE_CLIENT_ID=\"\"\n",
                        "env: AZURE_TENANT_ID=\"\"\n",
                        "env: AZURE_CLIENT_SECRET=\"\"\n",
                        "Purview Name: \"my-purview-account\"\n",
                        "Client ID: \"\"\n"
                    ]
                }
            ],
            "source": [
                "# Environment Variables\n",
                "%env PURVIEW_ACCOUNT_NAME=YOUR_PURVIEW_ACCOUNT_NAME\n",
                "%env AZURE_CLIENT_ID=YOUR_CLIENT_ID\n",
                "%env AZURE_TENANT_ID=YOUR_TENANT_ID\n",
                "%env AZURE_CLIENT_SECRET=YOUR_CLIENT_SECRET\n",
                "\n",
                "PURVIEW_ACCOUNT_NAME = os.getenv(\"PURVIEW_ACCOUNT_NAME\")\n",
                "AZURE_CLIENT_ID = os.getenv(\"AZURE_CLIENT_ID\")\n",
                "AZURE_TENANT_ID = os.getenv(\"AZURE_TENANT_ID\")\n",
                "AZURE_CLIENT_SECRET = os.getenv(\"AZURE_CLIENT_SECRET\")\n",
                "\n",
                "print(f\"Purview Name: {PURVIEW_ACCOUNT_NAME}\")\n",
                "print(f\"Client ID: {AZURE_CLIENT_ID}\")"
            ]
        },
        {
            "cell_type": "code",
            "execution_count": null,
            "metadata": {
                "azdata_cell_guid": "8facf121-f510-48c4-bf99-433bb568432a"
            },
            "outputs": [],
            "source": [
                "# Commands\n",
                "!pvw scan --help"
            ]
        },
        {
            "cell_type": "markdown",
            "metadata": {},
            "source": [
                "## Classification Rules"
            ]
        },
        {
            "cell_type": "code",
            "execution_count": null,
            "metadata": {},
            "outputs": [],
            "source": [
                "# Create or Update\n",
                "!pvw scan putClassificationRule --classificationRuleName \"BANK_ACCOUNT_NUMBER\" --payloadFile \"../json/scan/classification_rule.json\""
            ]
        },
        {
            "cell_type": "code",
            "execution_count": null,
            "metadata": {},
            "outputs": [],
            "source": [
                "# Delete\n",
                "!pvw scan deleteClassificationRule --classificationRuleName \"BANK_ACCOUNT_NUMBER\""
            ]
        },
        {
            "cell_type": "code",
            "execution_count": null,
            "metadata": {},
            "outputs": [],
            "source": [
                "# Get\n",
                "!pvw scan readClassificationRule --classificationRuleName \"BANK_ACCOUNT_NUMBER\""
            ]
        },
        {
            "cell_type": "code",
            "execution_count": null,
            "metadata": {},
            "outputs": [],
            "source": [
                "# List All\n",
                "!pvw scan readClassificationRules"
            ]
        },
        {
            "cell_type": "code",
            "execution_count": null,
            "metadata": {},
            "outputs": [],
            "source": [
                "# List Versions By Classification Rule Name\n",
                "!pvw scan readClassificationRuleVersions --classificationRuleName \"BANK_ACCOUNT_NUMBER\""
            ]
        },
        {
            "cell_type": "markdown",
            "metadata": {},
            "source": [
                "## Data Sources"
            ]
        },
        {
            "cell_type": "code",
            "execution_count": null,
            "metadata": {},
            "outputs": [],
            "source": [
                "# Create or Update\n",
                "!pvw scan putDataSource --dataSourceName \"DataSource2\" --payloadFile \"../json/scan/scan_source.json\""
            ]
        },
        {
            "cell_type": "code",
            "execution_count": null,
            "metadata": {},
            "outputs": [],
            "source": [
                "# Delete\n",
                "!pvw scan deleteDataSource --dataSourceName \"DataSource2\""
            ]
        },
        {
            "cell_type": "code",
            "execution_count": null,
            "metadata": {},
            "outputs": [],
            "source": [
                "# Get\n",
                "!pvw scan readDataSource --dataSourceName \"DataSource2\""
            ]
        },
        {
            "cell_type": "code",
            "execution_count": null,
            "metadata": {},
            "outputs": [],
            "source": [
                "# List All\n",
                "!pvw scan readDataSources"
            ]
        },
        {
            "cell_type": "markdown",
            "metadata": {},
            "source": [
                "## Filters"
            ]
        },
        {
            "cell_type": "code",
            "execution_count": null,
            "metadata": {},
            "outputs": [],
            "source": [
                "# Create or Update\n",
                "!pvw scan putFilter --dataSourceName \"AzureDataLakeStorage-kl2\" --scanName \"Scan-HcH\" --payloadFile \"../json/scan/scan_filter.json\""
            ]
        },
        {
            "cell_type": "code",
            "execution_count": null,
            "metadata": {},
            "outputs": [],
            "source": [
                "# Get\n",
                "!pvw scan readFilters --dataSourceName \"AzureDataLakeStorage-kl2\" --scanName \"Scan-HcH\""
            ]
        },
        {
            "cell_type": "markdown",
            "metadata": {},
            "source": [
                "## Key Vault Connections"
            ]
        },
        {
            "cell_type": "code",
            "execution_count": null,
            "metadata": {},
            "outputs": [],
            "source": [
                "# Create\n",
                "!pvw scan putKeyVault --keyVaultName \"babylon\" --payloadFile \"../json/scan/scan_keyvault.json\""
            ]
        },
        {
            "cell_type": "code",
            "execution_count": null,
            "metadata": {},
            "outputs": [],
            "source": [
                "# Delete\n",
                "!pvw scan deleteKeyVault --keyVaultName \"babylon\""
            ]
        },
        {
            "cell_type": "code",
            "execution_count": null,
            "metadata": {},
            "outputs": [],
            "source": [
                "# Get\n",
                "!pvw scan readKeyVault --keyVaultName \"babylon\""
            ]
        },
        {
            "cell_type": "code",
            "execution_count": null,
            "metadata": {},
            "outputs": [],
            "source": [
                "# List All\n",
                "!pvw scan readKeyVaults"
            ]
        },
        {
            "cell_type": "markdown",
            "metadata": {},
            "source": [
                "## Scan Result"
            ]
        },
        {
            "cell_type": "code",
            "execution_count": null,
            "metadata": {},
            "outputs": [],
            "source": [
                "# List Scan History\n",
                "!pvw scan readScanHistory --dataSourceName \"AzureDataLakeStorage-kl2\" --scanName \"Scan-HcH\""
            ]
        },
        {
            "cell_type": "code",
            "execution_count": null,
            "metadata": {},
            "outputs": [],
            "source": [
                "# Run Scan\n",
                "!pvw scan runScan --dataSourceName \"AzureDataLakeStorage-kl2\" --scanName \"Scan-HcH\""
            ]
        },
        {
            "cell_type": "markdown",
            "metadata": {},
            "source": [
                "## Scan Rulesets"
            ]
        },
        {
            "cell_type": "code",
            "execution_count": null,
            "metadata": {},
            "outputs": [],
            "source": [
                "# Create or Update\n",
                "!pvw scan putScanRuleset --scanRulesetName \"myScanRuleset\" --payloadFile \"../json/scan/scan_ruleset.json\""
            ]
        },
        {
            "cell_type": "code",
            "execution_count": null,
            "metadata": {},
            "outputs": [],
            "source": [
                "# Delete\n",
                "!pvw scan deleteScanRuleset --scanRulesetName \"myScanRuleset\""
            ]
        },
        {
            "cell_type": "code",
            "execution_count": null,
            "metadata": {},
            "outputs": [],
            "source": [
                "# Get\n",
                "!pvw scan readScanRuleset --scanRulesetName \"myScanRuleset\""
            ]
        },
        {
            "cell_type": "code",
            "execution_count": null,
            "metadata": {},
            "outputs": [],
            "source": [
                "# List All\n",
                "!pvw scan readScanRulesets"
            ]
        },
        {
            "cell_type": "markdown",
            "metadata": {},
            "source": [
                "## Scans"
            ]
        },
        {
            "cell_type": "code",
            "execution_count": null,
            "metadata": {},
            "outputs": [],
            "source": [
                "# Create or Update\n",
                "!pvw scan putScan --dataSourceName \"DataSource2\" --scanName \"myScan\" --payloadFile \"../json/scan/scan.json\""
            ]
        },
        {
            "cell_type": "code",
            "execution_count": null,
            "metadata": {},
            "outputs": [],
            "source": [
                "# Delete\n",
                "!pvw scan deleteScan --dataSourceName \"DataSource2\" --scanName \"myScan\""
            ]
        },
        {
            "cell_type": "code",
            "execution_count": null,
            "metadata": {},
            "outputs": [],
            "source": [
                "# Get\n",
                "!pvw scan readScan --dataSourceName \"DataSource2\" --scanName \"myScan\""
            ]
        },
        {
            "cell_type": "code",
            "execution_count": null,
            "metadata": {},
            "outputs": [],
            "source": [
                "# List By Data Source\n",
                "!pvw scan readScans --dataSourceName \"DataSource2\""
            ]
        },
        {
            "cell_type": "markdown",
            "metadata": {},
            "source": [
                "## System Scan Rulesets"
            ]
        },
        {
            "cell_type": "code",
            "execution_count": null,
            "metadata": {},
            "outputs": [],
            "source": [
                "# Get\n",
                "!pvw scan readSystemScanRuleset --dataSourceType \"AdlsGen2\""
            ]
        },
        {
            "cell_type": "code",
            "execution_count": null,
            "metadata": {},
            "outputs": [],
            "source": [
                "# Get By Version\n",
                "!pvw scan readSystemScanRulesetVersion --version \"2\" --dataSourceType \"AdlsGen2\""
            ]
        },
        {
            "cell_type": "code",
            "execution_count": null,
            "metadata": {},
            "outputs": [],
            "source": [
                "# Get Latest\n",
                "!pvw scan readSystemScanRulesetLatest --dataSourceType \"AdlsGen2\""
            ]
        },
        {
            "cell_type": "code",
            "execution_count": null,
            "metadata": {},
            "outputs": [],
            "source": [
                "# List All\n",
                "!pvw scan readSystemScanRulesets"
            ]
        },
        {
            "cell_type": "code",
            "execution_count": null,
            "metadata": {},
            "outputs": [],
            "source": [
                "# List Versions By Data Source\n",
                "!pvw scan readSystemScanRulesetVersions --dataSourceType \"AdlsGen2\""
            ]
        },
        {
            "cell_type": "markdown",
            "metadata": {},
            "source": [
                "## Triggers"
            ]
        },
        {
            "cell_type": "code",
            "execution_count": null,
            "metadata": {},
            "outputs": [],
            "source": [
                "# Create\n",
                "!pvw scan putTrigger --dataSourceName \"DataSource2\" --scanName \"myScan\" --payloadFile \"../json/scan/scan_trigger.json\""
            ]
        },
        {
            "cell_type": "code",
            "execution_count": null,
            "metadata": {},
            "outputs": [],
            "source": [
                "# Delete\n",
                "!pvw scan deleteTrigger --dataSourceName \"DataSource2\" --scanName \"myScan\""
            ]
        },
        {
            "cell_type": "code",
            "execution_count": null,
            "metadata": {},
            "outputs": [],
            "source": [
                "# Get\n",
                "!pvw scan readTrigger --dataSourceName \"DataSource2\" --scanName \"myScan\""
            ]
        }
    ],
    "metadata": {
        "kernelspec": {
            "display_name": ".venv",
            "language": "python",
            "name": "python3"
        },
        "language_info": {
            "codemirror_mode": {
                "name": "ipython",
                "version": 3
            },
            "file_extension": ".py",
            "mimetype": "text/x-python",
            "name": "python",
            "nbconvert_exporter": "python",
            "pygments_lexer": "ipython3",
            "version": "3.10.11"
        },
        "metadata": {
            "interpreter": {
                "hash": "12e36838d520b1a5d9d0c411170e079c62a783e05fdada350eba99892041e52f"
            }
        }
    },
    "nbformat": 4,
    "nbformat_minor": 2
}
